{
 "cells": [
  {
   "cell_type": "markdown",
   "metadata": {},
   "source": [
    "# CPSC380: 5_TimeSeries_1_DateTime\n",
    "\n",
    "In this notebook, you will learn the followings:\n",
    " - datete classes in datetime module\n",
    " - date formatting\n",
    " \n",
    "Read more:\n",
    " - https://docs.python.org/3/library/datetime.html#module-datetime\n",
    " - https://www.programiz.com/python-programming/datetime\n",
    " - https://www.nbshare.io/notebook/914454993/Python-Datetime-Module/"
   ]
  },
  {
   "cell_type": "markdown",
   "metadata": {},
   "source": [
    "## 1. Datetime module\n",
    "\n",
    "**Datetime module** contains the following classes:\n",
    " - date\n",
    " - time\n",
    " - datetime\n",
    " - timedelta\n",
    " - tzinfo\n",
    " - timezone"
   ]
  },
  {
   "cell_type": "code",
   "execution_count": 1,
   "metadata": {},
   "outputs": [
    {
     "name": "stdout",
     "output_type": "stream",
     "text": [
      "['MAXYEAR', 'MINYEAR', '__builtins__', '__cached__', '__doc__', '__file__', '__loader__', '__name__', '__package__', '__spec__', 'date', 'datetime', 'datetime_CAPI', 'sys', 'time', 'timedelta', 'timezone', 'tzinfo']\n"
     ]
    }
   ],
   "source": [
    "import datetime\n",
    "\n",
    "print(dir(datetime))"
   ]
  },
  {
   "cell_type": "markdown",
   "metadata": {},
   "source": [
    "### 1.1 date class:\n",
    "An idealized naive date, assuming the current Gregorian calendar always was, and always will be, in effect. \n",
    "- Attributes: year, month, and day."
   ]
  },
  {
   "cell_type": "code",
   "execution_count": 15,
   "metadata": {},
   "outputs": [
    {
     "name": "stdout",
     "output_type": "stream",
     "text": [
      "['__add__', '__class__', '__delattr__', '__dir__', '__doc__', '__eq__', '__format__', '__ge__', '__getattribute__', '__gt__', '__hash__', '__init__', '__init_subclass__', '__le__', '__lt__', '__ne__', '__new__', '__radd__', '__reduce__', '__reduce_ex__', '__repr__', '__rsub__', '__setattr__', '__sizeof__', '__str__', '__sub__', '__subclasshook__', 'ctime', 'day', 'fromisoformat', 'fromordinal', 'fromtimestamp', 'isocalendar', 'isoformat', 'isoweekday', 'max', 'min', 'month', 'replace', 'resolution', 'strftime', 'timetuple', 'today', 'toordinal', 'weekday', 'year']\n"
     ]
    }
   ],
   "source": [
    "from datetime import date\n",
    "\n",
    "print(dir(date))"
   ]
  },
  {
   "cell_type": "code",
   "execution_count": 3,
   "metadata": {},
   "outputs": [
    {
     "name": "stdout",
     "output_type": "stream",
     "text": [
      "2021-11-11\n",
      "Current date = 2023-04-04\n",
      "Current year: 2023\n",
      "Current month: 4\n",
      "Current day: 4\n",
      "Date = 2012-01-10\n"
     ]
    }
   ],
   "source": [
    "# Date object to represent a date\n",
    "d = date(2021, 11, 11)\n",
    "print(d)\n",
    "\n",
    "# Get current date using today function\n",
    "today = date.today()\n",
    "print(\"Current date =\", today)\n",
    "\n",
    "#Print today's year, month and day\n",
    "print(\"Current year:\", today.year)\n",
    "print(\"Current month:\", today.month)\n",
    "print(\"Current day:\", today.day)\n",
    "\n",
    "# Get date from a timestamp\n",
    "timestamp = date.fromtimestamp(1326244364)\n",
    "print(\"Date =\", timestamp)\n"
   ]
  },
  {
   "cell_type": "markdown",
   "metadata": {},
   "source": [
    "### 1.2 time class:\n",
    "An idealized time, independent of any particular day, assuming that every day has exactly 24*60*60 seconds. (There is no notion of “leap seconds” here.) \n",
    "  - Attributes: hour, minute, second, microsecond, and tzinfo."
   ]
  },
  {
   "cell_type": "code",
   "execution_count": 16,
   "metadata": {},
   "outputs": [
    {
     "name": "stdout",
     "output_type": "stream",
     "text": [
      "['__class__', '__delattr__', '__dir__', '__doc__', '__eq__', '__format__', '__ge__', '__getattribute__', '__gt__', '__hash__', '__init__', '__init_subclass__', '__le__', '__lt__', '__ne__', '__new__', '__reduce__', '__reduce_ex__', '__repr__', '__setattr__', '__sizeof__', '__str__', '__subclasshook__', 'dst', 'fold', 'fromisoformat', 'hour', 'isoformat', 'max', 'microsecond', 'min', 'minute', 'replace', 'resolution', 'second', 'strftime', 'tzinfo', 'tzname', 'utcoffset']\n"
     ]
    }
   ],
   "source": [
    "from datetime import time\n",
    "\n",
    "print(dir(time))"
   ]
  },
  {
   "cell_type": "code",
   "execution_count": 21,
   "metadata": {},
   "outputs": [
    {
     "name": "stdout",
     "output_type": "stream",
     "text": [
      "a = 00:00:00\n",
      "b = 11:34:56\n",
      "c = 11:34:56\n",
      "d = 11:34:56.234566\n",
      "hour = 0\n",
      "minute = 0\n",
      "second = 0\n",
      "microsecond = 0\n",
      "11:34:56\n"
     ]
    }
   ],
   "source": [
    "# time(hour = 0, minute = 0, second = 0)\n",
    "a = time()\n",
    "print(\"a =\", a)\n",
    "\n",
    "# time(hour, minute and second)\n",
    "b = time(11, 34, 56)\n",
    "print(\"b =\", b)\n",
    "\n",
    "# time(hour, minute and second)\n",
    "c = time(hour = 11, minute = 34, second = 56)\n",
    "print(\"c =\", c)\n",
    "\n",
    "# time(hour, minute, second, microsecond)\n",
    "d = time(11, 34, 56, 234566)\n",
    "print(\"d =\", d)\n",
    "\n",
    "# Print hour, minute, second and microsecond\n",
    "print(\"hour =\", a.hour)\n",
    "print(\"minute =\", a.minute)\n",
    "print(\"second =\", a.second)\n",
    "print(\"microsecond =\", a.microsecond)\n",
    "\n",
    "print(b.strftime(\"%H:%M:%S\"))"
   ]
  },
  {
   "cell_type": "markdown",
   "metadata": {},
   "source": [
    "  \n",
    "### 1.3 datetime class:\n",
    "A combination of a date and a time. \n",
    " - Attributes: year, month, day, hour, minute, second, microsecond, and tzinfo.\n"
   ]
  },
  {
   "cell_type": "code",
   "execution_count": 22,
   "metadata": {},
   "outputs": [
    {
     "name": "stdout",
     "output_type": "stream",
     "text": [
      "['__add__', '__class__', '__delattr__', '__dir__', '__doc__', '__eq__', '__format__', '__ge__', '__getattribute__', '__gt__', '__hash__', '__init__', '__init_subclass__', '__le__', '__lt__', '__ne__', '__new__', '__radd__', '__reduce__', '__reduce_ex__', '__repr__', '__rsub__', '__setattr__', '__sizeof__', '__str__', '__sub__', '__subclasshook__', 'astimezone', 'combine', 'ctime', 'date', 'day', 'dst', 'fold', 'fromisoformat', 'fromordinal', 'fromtimestamp', 'hour', 'isocalendar', 'isoformat', 'isoweekday', 'max', 'microsecond', 'min', 'minute', 'month', 'now', 'replace', 'resolution', 'second', 'strftime', 'strptime', 'time', 'timestamp', 'timetuple', 'timetz', 'today', 'toordinal', 'tzinfo', 'tzname', 'utcfromtimestamp', 'utcnow', 'utcoffset', 'utctimetuple', 'weekday', 'year']\n"
     ]
    }
   ],
   "source": [
    "from datetime import datetime\n",
    "\n",
    "print(dir(datetime))"
   ]
  },
  {
   "cell_type": "code",
   "execution_count": 25,
   "metadata": {},
   "outputs": [
    {
     "name": "stdout",
     "output_type": "stream",
     "text": [
      "2018-11-28 00:00:00\n",
      "year = 2017\n",
      "month = 11\n",
      "hour = 23\n",
      "minute = 55\n",
      "timestamp = 1511931359.34238\n",
      "date and time: 11/28/2017, 23:55:59\n"
     ]
    }
   ],
   "source": [
    "#datetime(year, month, day)\n",
    "a = datetime(2018, 11, 28)\n",
    "print(a)\n",
    "\n",
    "# datetime(year, month, day, hour, minute, second, microsecond)\n",
    "c = datetime(2017, 11, 28, 23, 55, 59, 342380)\n",
    "print(\"year =\", c.year)\n",
    "print(\"month =\", c.month)\n",
    "print(\"hour =\", c.hour)\n",
    "print(\"minute =\", c.minute)\n",
    "print(\"timestamp =\", c.timestamp())\n",
    "print(\"date and time:\",c.strftime(\"%m/%d/%Y, %H:%M:%S\"))"
   ]
  },
  {
   "cell_type": "code",
   "execution_count": 26,
   "metadata": {},
   "outputs": [
    {
     "name": "stdout",
     "output_type": "stream",
     "text": [
      "2023-04-04 10:33:43.090962\n",
      "Year:  2023\n",
      "Month:  4\n",
      "Dat:  4\n",
      "Hour:  10\n",
      "Minute:  33\n",
      "Second:  43\n",
      "TimeZone info:  None\n",
      "current date and time: 04/04/2023, 10:33:43\n"
     ]
    }
   ],
   "source": [
    "#Get current date and time  using now function\n",
    "datetime_object = datetime.now()\n",
    "print(datetime_object)\n",
    "print(\"Year: \", datetime_object.year)\n",
    "print(\"Month: \", datetime_object.month)\n",
    "print(\"Dat: \", datetime_object.day)\n",
    "print(\"Hour: \", datetime_object.hour)\n",
    "print(\"Minute: \", datetime_object.minute)\n",
    "print(\"Second: \", datetime_object.second)\n",
    "print(\"TimeZone info: \", datetime_object.tzinfo)\n",
    "print(\"current date and time:\",datetime_object.strftime(\"%m/%d/%Y, %H:%M:%S\"))"
   ]
  },
  {
   "cell_type": "markdown",
   "metadata": {},
   "source": [
    "### 1.4. timedelta class: \n",
    "\n",
    "A duration expressing the **difference** between two date, time, or datetime instances to microsecond resolution.\n",
    " "
   ]
  },
  {
   "cell_type": "code",
   "execution_count": 7,
   "metadata": {},
   "outputs": [
    {
     "name": "stdout",
     "output_type": "stream",
     "text": [
      "t3 = 201 days, 0:00:00\n",
      "t6 = -333 days, 1:14:20\n",
      "type of t3 = <class 'datetime.timedelta'>\n",
      "type of t6 = <class 'datetime.timedelta'>\n"
     ]
    }
   ],
   "source": [
    "# Difference between two dates and times\n",
    "\n",
    "from datetime import datetime, date\n",
    "\n",
    "t1 = date(year = 2018, month = 7, day = 12)\n",
    "t2 = date(year = 2017, month = 12, day = 23)\n",
    "t3 = t1 - t2\n",
    "print(\"t3 =\", t3)\n",
    "\n",
    "t4 = datetime(year = 2018, month = 7, day = 12, hour = 7, minute = 9, second = 33)\n",
    "t5 = datetime(year = 2019, month = 6, day = 10, hour = 5, minute = 55, second = 13)\n",
    "t6 = t4 - t5\n",
    "print(\"t6 =\", t6)\n",
    "\n",
    "print(\"type of t3 =\", type(t3)) \n",
    "print(\"type of t6 =\", type(t6))  "
   ]
  },
  {
   "cell_type": "code",
   "execution_count": 8,
   "metadata": {},
   "outputs": [
    {
     "name": "stdout",
     "output_type": "stream",
     "text": [
      "t3 = 14 days, 13:55:39 14 50139\n",
      "total seconds = 435633.233423\n"
     ]
    }
   ],
   "source": [
    "#Difference between two timedelta objects\n",
    "from datetime import timedelta\n",
    "\n",
    "t1 = timedelta(weeks = 2, days = 5, hours = 1, seconds = 33)\n",
    "t2 = timedelta(days = 4, hours = 11, minutes = 4, seconds = 54)\n",
    "t3 = t1 - t2\n",
    "print(\"t3 =\", t3, t3.days, t3.seconds)\n",
    "\n",
    "#Time duration in seconds\n",
    "delta = timedelta(days = 5, hours = 1, seconds = 33, microseconds = 233423)\n",
    "print(\"total seconds =\", delta.total_seconds())\n"
   ]
  },
  {
   "cell_type": "code",
   "execution_count": 27,
   "metadata": {},
   "outputs": [
    {
     "name": "stdout",
     "output_type": "stream",
     "text": [
      "['__abs__', '__add__', '__bool__', '__class__', '__delattr__', '__dir__', '__divmod__', '__doc__', '__eq__', '__floordiv__', '__format__', '__ge__', '__getattribute__', '__gt__', '__hash__', '__init__', '__init_subclass__', '__le__', '__lt__', '__mod__', '__mul__', '__ne__', '__neg__', '__new__', '__pos__', '__radd__', '__rdivmod__', '__reduce__', '__reduce_ex__', '__repr__', '__rfloordiv__', '__rmod__', '__rmul__', '__rsub__', '__rtruediv__', '__setattr__', '__sizeof__', '__str__', '__sub__', '__subclasshook__', '__truediv__', 'days', 'max', 'microseconds', 'min', 'resolution', 'seconds', 'total_seconds']\n"
     ]
    }
   ],
   "source": [
    "print(dir(timedelta))"
   ]
  },
  {
   "cell_type": "code",
   "execution_count": null,
   "metadata": {},
   "outputs": [],
   "source": []
  },
  {
   "cell_type": "markdown",
   "metadata": {},
   "source": [
    "### 1.5. tzinfo class:\n",
    "An **abstract base class** for time zone information objects. These are used by the datetime and time classes to provide a customizable notion of time adjustment (for example, to account for time zone and/or daylight saving time).\n"
   ]
  },
  {
   "cell_type": "markdown",
   "metadata": {},
   "source": [
    "### 1.6. timezone class:\n",
    "A class that implements the tzinfo abstract base class as a fixed offset from the UTC."
   ]
  },
  {
   "cell_type": "markdown",
   "metadata": {},
   "source": [
    "The date and time objects can be either categorized as **aware** or **naive** depending on whether or not they include timezone information.\n",
    "\n",
    "An **aware** object can identify itself relative to other time objects with the help of other parameters such as timezone and daylight saving information.\n",
    "\n",
    "A **naive** object on the other hand doesn't contain enough information to identify itself to other date/time objects."
   ]
  },
  {
   "cell_type": "code",
   "execution_count": 28,
   "metadata": {},
   "outputs": [
    {
     "name": "stdout",
     "output_type": "stream",
     "text": [
      "['__class__', '__delattr__', '__dir__', '__doc__', '__eq__', '__format__', '__ge__', '__getattribute__', '__getinitargs__', '__gt__', '__hash__', '__init__', '__init_subclass__', '__le__', '__lt__', '__ne__', '__new__', '__reduce__', '__reduce_ex__', '__repr__', '__setattr__', '__sizeof__', '__str__', '__subclasshook__', 'dst', 'fromutc', 'max', 'min', 'tzname', 'utc', 'utcoffset']\n"
     ]
    }
   ],
   "source": [
    "from datetime import timezone\n",
    "print(dir(timezone))"
   ]
  },
  {
   "cell_type": "code",
   "execution_count": 29,
   "metadata": {},
   "outputs": [
    {
     "name": "stdout",
     "output_type": "stream",
     "text": [
      "TimeZone info:  None\n",
      "2023-04-04 10:38:41.078344+00:00\n",
      "Year:  2023\n",
      "Month:  4\n",
      "Dat:  4\n",
      "Hour:  10\n",
      "Minute:  38\n",
      "Second:  41\n",
      "TimeZone info:  UTC\n"
     ]
    }
   ],
   "source": [
    "datetime_object = datetime.now()\n",
    "\n",
    "# no time zone information\n",
    "print(\"TimeZone info: \", datetime_object.tzinfo)\n",
    "\n",
    "# we will use the timezone class\n",
    "datetime_object = datetime_object.replace(tzinfo=timezone.utc)\n",
    "\n",
    "print(datetime_object)\n",
    "print(\"Year: \", datetime_object.year)\n",
    "print(\"Month: \", datetime_object.month)\n",
    "print(\"Dat: \", datetime_object.day)\n",
    "print(\"Hour: \", datetime_object.hour)\n",
    "print(\"Minute: \", datetime_object.minute)\n",
    "print(\"Second: \", datetime_object.second)\n",
    "print(\"TimeZone info: \", datetime_object.tzinfo)"
   ]
  },
  {
   "cell_type": "markdown",
   "metadata": {},
   "source": [
    "**pytz**\n",
    "\n",
    "brings the Olson tz database into Python. This library allows **accurate and cross platform timezone calculations** using Python 2.4 or higher. It also solves the **issue of ambiguous times** at the end of daylight saving time, which you can read more about in the Python Library Reference (datetime.tzinfo)."
   ]
  },
  {
   "cell_type": "code",
   "execution_count": 30,
   "metadata": {},
   "outputs": [
    {
     "name": "stdout",
     "output_type": "stream",
     "text": [
      "['AmbiguousTimeError', 'BaseTzInfo', 'FixedOffset', 'HOUR', 'InvalidTimeError', 'LazyDict', 'LazyList', 'LazySet', 'NonExistentTimeError', 'OLSEN_VERSION', 'OLSON_VERSION', 'UTC', 'UnknownTimeZoneError', 'VERSION', 'ZERO', '_CountryNameDict', '_CountryTimezoneDict', '_FixedOffset', '_UTC', '__all__', '__builtins__', '__cached__', '__doc__', '__file__', '__loader__', '__name__', '__package__', '__path__', '__spec__', '__version__', '_all_timezones_lower_to_standard', '_case_insensitive_zone_lookup', '_p', '_test', '_tzinfo_cache', '_unmunge_zone', 'all_timezones', 'all_timezones_set', 'ascii', 'build_tzinfo', 'common_timezones', 'common_timezones_set', 'country_names', 'country_timezones', 'datetime', 'exceptions', 'lazy', 'open_resource', 'os', 'resource_exists', 'sys', 'timezone', 'tzfile', 'tzinfo', 'unicode', 'unpickler', 'utc']\n"
     ]
    }
   ],
   "source": [
    "from datetime import datetime\n",
    "import pytz\n",
    "\n",
    "print(dir(pytz))"
   ]
  },
  {
   "cell_type": "code",
   "execution_count": 10,
   "metadata": {},
   "outputs": [
    {
     "name": "stdout",
     "output_type": "stream",
     "text": [
      "TimeZone:  None 2023-04-04 10:21:37.393190\n",
      "TimeZone:  America/New_York 2023-04-04 10:21:39.680254-04:00\n",
      "TimeZone:  Asia/Shanghai 2023-04-04 22:21:39.681264+08:00\n"
     ]
    }
   ],
   "source": [
    "# get timezone information\n",
    "#print(pytz.all_timezones)\n",
    "#print(pytz.common_timezones)\n",
    "\n",
    "# local time\n",
    "local = datetime.now()\n",
    "print(\"TimeZone: \", local.tzinfo, local)\n",
    "\n",
    "# new york time\n",
    "tz_NY = pytz.timezone('America/New_York') \n",
    "datetime_NY = datetime.now(tz_NY)\n",
    "print(\"TimeZone: \", datetime_NY.tzinfo,  datetime_NY)\n",
    "\n",
    "# shanghai time\n",
    "tz_Shanghai = pytz.timezone('Asia/Shanghai')\n",
    "datetime_Shanghai = datetime.now(tz_Shanghai)\n",
    "print(\"TimeZone: \", datetime_Shanghai.tzinfo, datetime_Shanghai)"
   ]
  },
  {
   "cell_type": "markdown",
   "metadata": {},
   "source": [
    "## 2. Datetime formatting"
   ]
  },
  {
   "cell_type": "markdown",
   "metadata": {},
   "source": [
    "### 2.1.  strftime() - datetime object to string\n",
    "\n",
    " - The strftime() method is defined under classes date, datetime and time. \n",
    " - The method creates a formatted string from a given date, datetime or time object.\n",
    " - **strftime** means string **formatter**, this will format a datetime object to string format.\n",
    " - **strptime** means string **parser**, this will convert a string format to datetime\n",
    " \n",
    "More detail: https://docs.python.org/3/library/datetime.html#strftime-and-strptime-behavior"
   ]
  },
  {
   "cell_type": "code",
   "execution_count": 11,
   "metadata": {},
   "outputs": [
    {
     "name": "stdout",
     "output_type": "stream",
     "text": [
      "2023-04-04 10:21:39.702253\n",
      "time: 10:21:39\n",
      "mm/dd/YY: 04/04/2023, 10:21:39\n",
      "dd/mm/YY: 04/04/2023, 10:21:39\n",
      "Timezone:  \n",
      "Weekday:  Tuesday\n",
      "Abbreviated Weekday:  Tue\n",
      "Locale representation:  Tue Apr  4 10:21:39 2023\n"
     ]
    }
   ],
   "source": [
    "from datetime import datetime\n",
    "\n",
    "# current date and time\n",
    "now = datetime.now()\n",
    "\n",
    "# H:M:S format\n",
    "print (now)\n",
    "print(\"time:\", now.strftime(\"%H:%M:%S\"))\n",
    "\n",
    "# mm/dd/YY H:M:S format\n",
    "print(\"mm/dd/YY:\", now.strftime(\"%m/%d/%Y, %H:%M:%S\"))\n",
    "\n",
    "# dd/mm/YY H:M:S format\n",
    "print(\"dd/mm/YY:\", now.strftime(\"%d/%m/%Y, %H:%M:%S\"))\n",
    "\n",
    "# Timezone\n",
    "print(\"Timezone: \", now.strftime(\"%Z\"))\n",
    "\n",
    "# Weekday\n",
    "print(\"Weekday: \", now.strftime(\"%A\"))\n",
    "\n",
    "# Abbreviated weekday\n",
    "print(\"Abbreviated Weekday: \", now.strftime(\"%a\"))\n",
    "\n",
    "# Locale's appropriate date and time representation\n",
    "print(\"Locale representation: \", now.strftime(\"%c\"))"
   ]
  },
  {
   "cell_type": "markdown",
   "metadata": {},
   "source": [
    "### 2.2.  strptime() - string to datetime object\n",
    "\n",
    " - The strptime() method creates a datetime object from a given string (representing date and time).\n",
    " - strptime means string parser, this will convert a string format to datetime"
   ]
  },
  {
   "cell_type": "code",
   "execution_count": 12,
   "metadata": {},
   "outputs": [
    {
     "name": "stdout",
     "output_type": "stream",
     "text": [
      "<class 'datetime.datetime'>\n",
      "2021-11-13 15:23:52\n"
     ]
    }
   ],
   "source": [
    "datetime_string = '11/13/2021 15:23:52'\n",
    "\n",
    "datetime_object = datetime.strptime(datetime_string, '%m/%d/%Y %H:%M:%S')\n",
    "print(type(datetime_object))\n",
    "print(datetime_object)"
   ]
  },
  {
   "cell_type": "code",
   "execution_count": 13,
   "metadata": {},
   "outputs": [
    {
     "data": {
      "text/plain": [
       "[datetime.datetime(2011, 7, 6, 0, 0), datetime.datetime(2011, 8, 6, 0, 0)]"
      ]
     },
     "execution_count": 13,
     "metadata": {},
     "output_type": "execute_result"
    }
   ],
   "source": [
    "# parse datetime in list comprehension\n",
    "datestrs = ['7/6/2011', '8/6/2011']\n",
    "[datetime.strptime(x, '%m/%d/%Y') for x in datestrs]"
   ]
  },
  {
   "cell_type": "markdown",
   "metadata": {},
   "source": [
    "### 2.3. parse() time from dateutil module"
   ]
  },
  {
   "cell_type": "code",
   "execution_count": 14,
   "metadata": {},
   "outputs": [
    {
     "data": {
      "text/plain": [
       "datetime.datetime(2011, 12, 6, 0, 0)"
      ]
     },
     "execution_count": 14,
     "metadata": {},
     "output_type": "execute_result"
    }
   ],
   "source": [
    "# additionally using dateutil module to parse time\n",
    "from dateutil import parser\n",
    "\n",
    "parser.parse('2011-01-03')               # => datetime.datetime(2011, 1, 3, 0, 0)\n",
    "parser.parse('Jan 31, 1997 10:45 PM')    # => datetime.datetime(1997, 1, 31, 22, 45)\n",
    "parser.parse('6/12/2011', dayfirst=True) # => datetime.datetime(2011, 12, 6, 0, 0)"
   ]
  }
 ],
 "metadata": {
  "kernelspec": {
   "display_name": "Python 3 (ipykernel)",
   "language": "python",
   "name": "python3"
  },
  "language_info": {
   "codemirror_mode": {
    "name": "ipython",
    "version": 3
   },
   "file_extension": ".py",
   "mimetype": "text/x-python",
   "name": "python",
   "nbconvert_exporter": "python",
   "pygments_lexer": "ipython3",
   "version": "3.7.4"
  }
 },
 "nbformat": 4,
 "nbformat_minor": 1
}
