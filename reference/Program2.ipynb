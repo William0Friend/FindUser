{
 "cells": [
  {
   "cell_type": "markdown",
   "metadata": {},
   "source": [
    "# CPSC380: Program 2 - Numpy Basics\n",
    "\n",
    "There are two parts in this programming assignment: \n",
    "- Part A (ten tasks): each task is worth 1 point\n",
    "- Part B (one task): it is worth 2 points\n",
    "\n",
    "### Submission Instruction:\n",
    "- Electronic submission: upload this jupyter notebook on d2l\n",
    "- In-class demo:\n",
    " - Run this jupyter notebook on your laptop.\n",
    " - Answer the questions if requested."
   ]
  },
  {
   "cell_type": "code",
   "execution_count": 3,
   "metadata": {},
   "outputs": [],
   "source": [
    "import numpy as np"
   ]
  },
  {
   "cell_type": "markdown",
   "metadata": {},
   "source": [
    "## Part A: Numpy Basics"
   ]
  },
  {
   "cell_type": "markdown",
   "metadata": {},
   "source": [
    "#### Question 1: \n",
    "Given an input numpy array, return a reversed numpy array.\n"
   ]
  },
  {
   "cell_type": "code",
   "execution_count": 4,
   "metadata": {},
   "outputs": [
    {
     "data": {
      "text/plain": [
       "array([6, 5, 4, 3, 2, 1])"
      ]
     },
     "execution_count": 4,
     "metadata": {},
     "output_type": "execute_result"
    }
   ],
   "source": [
    "def question_one():\n",
    "    \n",
    "    array = np.array([1, 2, 3, 4, 5, 6])\n",
    "    #iterate through the array\n",
    "    # in reverse order\n",
    "    # store in a new array\n",
    "    # your code below\n",
    "    #reverse array\n",
    "    return array[::-1] \n",
    "    \n",
    "\n",
    "# do not change the code below    \n",
    "question_one()"
   ]
  },
  {
   "cell_type": "markdown",
   "metadata": {},
   "source": [
    "**Expected Output**: \n",
    "<table>\n",
    "    <tr> \n",
    "        <td> array([6, 5, 4, 3, 2, 1]) </td> \n",
    "    </tr>\n",
    "</table> "
   ]
  },
  {
   "cell_type": "code",
   "execution_count": null,
   "metadata": {},
   "outputs": [],
   "source": []
  },
  {
   "cell_type": "markdown",
   "metadata": {},
   "source": [
    "#### Question 2\n",
    "\n",
    "Given an input numpy array, return the most frequent value in the NumPy array.\n",
    "\n",
    "Hint: You may \n",
    "- Apply `bincount()` method of NumPy to get the count of occurrences of each element in the array.\n",
    "- Apply `argmax()` method to get the value having a maximum number of occurrences(frequency)."
   ]
  },
  {
   "cell_type": "code",
   "execution_count": 5,
   "metadata": {},
   "outputs": [
    {
     "data": {
      "text/plain": [
       "1"
      ]
     },
     "execution_count": 5,
     "metadata": {},
     "output_type": "execute_result"
    }
   ],
   "source": [
    "def question_two():\n",
    "    #create array of numbers\n",
    "    array = np.array([8,2,3,4,5,1,2,1,1,1, 8, 9, 100])\n",
    "    #get frequency of each number\n",
    "    bincount = np.bincount(array)\n",
    "    #get highest frequency number\n",
    "    argmax = np.argmax(bincount)\n",
    "    #print the highest frequency number\n",
    "    # your code below\n",
    "    return argmax\n",
    "    \n",
    "\n",
    "# do not change the code below    \n",
    "question_two()"
   ]
  },
  {
   "cell_type": "markdown",
   "metadata": {},
   "source": [
    "**Expected Output**: \n",
    "<table>\n",
    "    <tr> \n",
    "        <td>1</td> \n",
    "    </tr>\n",
    "</table> "
   ]
  },
  {
   "cell_type": "code",
   "execution_count": null,
   "metadata": {},
   "outputs": [],
   "source": []
  },
  {
   "cell_type": "markdown",
   "metadata": {},
   "source": [
    "#### Question 3\n",
    "\n",
    "Given two input numpy arrays, stack them horizontally, return the resulting merged numpy array.\n",
    "\n",
    "Hint: You may\n",
    "- make two arrays be compatible when merging, i.e., make the shape of b be (3,1)\n",
    "- use `hstack` or `concatenate` "
   ]
  },
  {
   "cell_type": "code",
   "execution_count": 6,
   "metadata": {},
   "outputs": [
    {
     "data": {
      "text/plain": [
       "array([[ 1,  2,  3, 10],\n",
       "       [45,  4,  7, 20],\n",
       "       [ 9,  6, 10, 30]])"
      ]
     },
     "execution_count": 6,
     "metadata": {},
     "output_type": "execute_result"
    }
   ],
   "source": [
    "def question_three():\n",
    "    \n",
    "    a = np.array([[1, 2, 3], [45, 4, 7], [9, 6, 10]])\n",
    "    b = np.array([10, 20, 30])\n",
    "    # your code below\n",
    "    # reshape for b like a\n",
    "    rshp = b.reshape(3,1)\n",
    "    # doing hstak or concatenation here \n",
    "    hstk = np.hstack((a,rshp))\n",
    "    # return the new array  \n",
    "    return hstk\n",
    "\n",
    "# do not change the code below  \n",
    "question_three()"
   ]
  },
  {
   "cell_type": "markdown",
   "metadata": {},
   "source": [
    "**Expected Output**: \n",
    "<table >\n",
    "    <tr> \n",
    "        <td> array([[ 1,  2,  3, 10],\n",
    " [45,  4,  7, 20],\n",
    " [ 9,  6, 10, 30]]) </td> \n",
    "    </tr>\n",
    "</table> "
   ]
  },
  {
   "cell_type": "code",
   "execution_count": null,
   "metadata": {},
   "outputs": [],
   "source": []
  },
  {
   "cell_type": "markdown",
   "metadata": {},
   "source": [
    "#### Question 4\n",
    "Given an input numpy array, select rows [0,1,3,4] (0-index based) (i.e., row 2 should be discarded), return the resulting numpy array.\n",
    "\n",
    "Hint: You may use fancy indexing "
   ]
  },
  {
   "cell_type": "code",
   "execution_count": 7,
   "metadata": {},
   "outputs": [
    {
     "data": {
      "text/plain": [
       "array([[  1,  20,   3,   1],\n",
       "       [ 40,   5,  66,   7],\n",
       "       [ 80, 100,  50,  77],\n",
       "       [ 34,  28,  97,  52]])"
      ]
     },
     "execution_count": 7,
     "metadata": {},
     "output_type": "execute_result"
    }
   ],
   "source": [
    "def question_four():\n",
    "    \n",
    "    arr = np.array([[1, 20, 3, 1], \n",
    "                [40, 5, 66, 7], \n",
    "                [70, 88, 9, 11],\n",
    "                [80, 100, 50, 77],\n",
    "                [34, 28, 97, 52]])\n",
    "    \n",
    "    # your code below\n",
    "    #choose your indexes\n",
    "    indexes = [0,1,3,4]\n",
    "    #slice according to above indexes\n",
    "    newArr = arr[indexes]\n",
    "    # return new array\n",
    "    return newArr  \n",
    "\n",
    "\n",
    "# do not change the code below  \n",
    "question_four()"
   ]
  },
  {
   "cell_type": "markdown",
   "metadata": {},
   "source": [
    "**Expected Output**: \n",
    "<table >\n",
    "    <tr> \n",
    "        <td>array([[  1,  20,   3,   1],\n",
    "       [ 40,   5,  66,   7],\n",
    "       [ 80, 100,  50,  77],\n",
    "       [ 34,  28,  97,  52]]) </td> \n",
    "    </tr>\n",
    "</table> "
   ]
  },
  {
   "cell_type": "code",
   "execution_count": null,
   "metadata": {},
   "outputs": [],
   "source": []
  },
  {
   "cell_type": "markdown",
   "metadata": {},
   "source": [
    "#### Question 5\n",
    "\n",
    "Given two input numpy arrays, compute matrix multiplication, return the resulting numpy array."
   ]
  },
  {
   "cell_type": "code",
   "execution_count": 8,
   "metadata": {},
   "outputs": [
    {
     "data": {
      "text/plain": [
       "array([[16, 19,  5],\n",
       "       [26, 31,  8],\n",
       "       [46, 55, 14]])"
      ]
     },
     "execution_count": 8,
     "metadata": {},
     "output_type": "execute_result"
    }
   ],
   "source": [
    "def question_five():\n",
    "    \n",
    "    a = np.array([[1, 2], [2, 3], [4, 5]])\n",
    "    b = np.array([[4, 5, 1], [6, 7, 2]])\n",
    "   \n",
    "    # your code below\n",
    "    # multiply the two matrices\n",
    "    sum = a.dot(b)\n",
    "    #rutern the sun from above\n",
    "    return sum\n",
    "\n",
    "\n",
    "\n",
    "# do not change the code below  \n",
    "question_five()"
   ]
  },
  {
   "cell_type": "markdown",
   "metadata": {},
   "source": [
    "**Expected Output**: \n",
    "<table >\n",
    "    <tr> \n",
    "        <td>array([[16, 19,  5],\n",
    "       [26, 31,  8],\n",
    "       [46, 55, 14]]) </td> \n",
    "    </tr>\n",
    "</table> "
   ]
  },
  {
   "cell_type": "code",
   "execution_count": null,
   "metadata": {},
   "outputs": [],
   "source": []
  },
  {
   "cell_type": "markdown",
   "metadata": {},
   "source": [
    "#### Question 6\n",
    "\n",
    "Given an input numpy array, select row indices, where all elements in that row are positive, and return them. For instance, we have a two-d array with the shape of (4,5)\n",
    "\n",
    "arr = np.array([\n",
    "\n",
    "    [1,2,3,4,5],    # all elements >0, so we will include 0 \n",
    "    [10,-3,30,4,5], # not all elements>0, so we will not include\n",
    "    [3,2,5,-4,5],   # not all elements>0, so we will not include    \n",
    "    [9,7,3,6,5]])   # all elements>0, so we will include 3\n",
    "\n",
    "The result should be [0, 3]\n",
    "\n",
    "Hint: You may\n",
    "- use np.where \n",
    "- use `np.all` to check each row, use the option of axis=1, so that you can check all elements for any row \n",
    "\n",
    "See a similar example [here](https://www.geeksforgeeks.org/get-row-numbers-of-numpy-array-having-element-larger-than-x/) "
   ]
  },
  {
   "cell_type": "code",
   "execution_count": 9,
   "metadata": {},
   "outputs": [
    {
     "data": {
      "text/plain": [
       "array([0, 4], dtype=int64)"
      ]
     },
     "execution_count": 9,
     "metadata": {},
     "output_type": "execute_result"
    }
   ],
   "source": [
    "def question_six():\n",
    "    \n",
    "    arr = np.array([[19,52,3,48,5], \n",
    "      [30,-3,30,4,5], \n",
    "      [36,62,45,-4,5], \n",
    "      [69,47,3,-6,5],\n",
    "      [4,78,24, 45, 39]])\n",
    "    \n",
    "    # your code below\n",
    "    # find which rows have all positive numbers\n",
    "    row_indexes = np.where(np.all(arr > 0, axis=1))[0]\n",
    "    # return a list of the array position and its type\n",
    "    return row_indexes\n",
    "\n",
    "# do not change the code below  \n",
    "question_six()"
   ]
  },
  {
   "cell_type": "markdown",
   "metadata": {},
   "source": [
    "**Expected Output**: \n",
    "<table >\n",
    "    <tr> \n",
    "        <td>(array([0, 4], dtype=int64),) </td> \n",
    "    </tr>\n",
    "</table> "
   ]
  },
  {
   "cell_type": "code",
   "execution_count": null,
   "metadata": {},
   "outputs": [],
   "source": []
  },
  {
   "cell_type": "markdown",
   "metadata": {},
   "source": [
    "#### Question 7\n",
    "For a given numpy array, find the indices of the sorted elements (ascending order) for each row using `argsort()`.\n",
    "\n",
    "For instance, we have a two-d array with the shape of (4,3)\n",
    "\n",
    "arr = np.array([\n",
    "\n",
    "    [10, 20, 30],   # they are sorted already, so [0,1,2]\n",
    "    [60, 50, 40],   # 40 (index 2), 50 (index 1), 60 (index 0), so [2,1,0]\n",
    "    [80, 70, 90],   # 70 (index 1), 80 (index 0), 90 (index 2), so [1, 0, 2]\n",
    "    [120,100,110]]) # 100 (index 1), 110 (index 2), 120 (index 0), so [1, 2, 0]\n",
    "    \n",
    "Hint: use axis option"
   ]
  },
  {
   "cell_type": "code",
   "execution_count": 10,
   "metadata": {},
   "outputs": [
    {
     "data": {
      "text/plain": [
       "array([[0, 1, 2],\n",
       "       [2, 1, 0],\n",
       "       [1, 0, 2],\n",
       "       [1, 2, 0]], dtype=int64)"
      ]
     },
     "execution_count": 10,
     "metadata": {},
     "output_type": "execute_result"
    }
   ],
   "source": [
    "def question_seven():\n",
    "    \n",
    "    arr = np.array([[10, 20, 30], \n",
    "                    [60, 50, 40],\n",
    "                    [80, 70, 90],\n",
    "                    [120,100,110]]) \n",
    "    \n",
    "    # your code below\n",
    "    # sort the element indexes and place them in a list\n",
    "    sorted_index = np.argsort(arr, axis=1)\n",
    "    # return the list of elements\n",
    "    return sorted_index\n",
    "    \n",
    "\n",
    "# do not change the code below  \n",
    "question_seven()"
   ]
  },
  {
   "cell_type": "markdown",
   "metadata": {},
   "source": [
    "**Expected Output**: \n",
    "<table >\n",
    "    <tr> \n",
    "        <td>array([[0, 1, 2],\n",
    "       [2, 1, 0],\n",
    "       [1, 0, 2],\n",
    "       [1, 2, 0]], dtype=int64)</td> \n",
    "    </tr>\n",
    "</table> "
   ]
  },
  {
   "cell_type": "code",
   "execution_count": null,
   "metadata": {},
   "outputs": [],
   "source": []
  },
  {
   "cell_type": "markdown",
   "metadata": {},
   "source": [
    "#### Question 8\n",
    "\n",
    "Given an input array, return the **largest two** elements.\n",
    "\n",
    "Hint:\n",
    " - use `sort()` then retrieve the largest two"
   ]
  },
  {
   "cell_type": "code",
   "execution_count": 11,
   "metadata": {},
   "outputs": [
    {
     "data": {
      "text/plain": [
       "array([ 99, 100])"
      ]
     },
     "execution_count": 11,
     "metadata": {},
     "output_type": "execute_result"
    }
   ],
   "source": [
    "def question_eight():\n",
    "    \n",
    "    arr = np.array([23, 12, 100, 37, 99, 2, 15, 76, 45, 92])\n",
    "    sort = np.sort(arr) \n",
    "    # your code below\n",
    "    #sort acending and return final 2 elements\n",
    "    return sort[-2:]\n",
    "\n",
    "# do not change the code below  \n",
    "question_eight()"
   ]
  },
  {
   "cell_type": "markdown",
   "metadata": {},
   "source": [
    "**Expected Output**: \n",
    "<table>\n",
    "    <tr> \n",
    "        <td> array([ 99, 100])</td> \n",
    "    </tr>\n",
    "</table> "
   ]
  },
  {
   "cell_type": "code",
   "execution_count": null,
   "metadata": {},
   "outputs": [],
   "source": []
  },
  {
   "cell_type": "markdown",
   "metadata": {},
   "source": [
    "#### Question 9\n",
    "\n",
    "Given an input 2-d array, calculate the **sum of all columns**, and return the sum values.\n",
    "\n",
    "For instance, we have a two-d array with the shape of (4,3)\n",
    "\n",
    "arr = np.array([\n",
    "    \n",
    "    [1, 2, 3],                 \n",
    "    [4, 5, 6],\n",
    "    [7, 8, 9], \n",
    "    [10, 11, 12]])\n",
    "    \n",
    "    The sum of the first column: is 1+4+7+10=22\n",
    "    The sum of the second column: is 2+5+8+11=26\n",
    "    The sum of the third column: is 3+6+9+12=30\n",
    "    \n",
    "so the result should be [22,26, 30]\n"
   ]
  },
  {
   "cell_type": "code",
   "execution_count": 12,
   "metadata": {},
   "outputs": [
    {
     "data": {
      "text/plain": [
       "array([22, 26, 30])"
      ]
     },
     "execution_count": 12,
     "metadata": {},
     "output_type": "execute_result"
    }
   ],
   "source": [
    "def question_nine():\n",
    "    \n",
    "    arr = np.array([[1, 2, 3], \n",
    "                    [4, 5, 6],\n",
    "                    [7, 8, 9], \n",
    "                    [10, 11, 12]])\n",
    "    # your code below\n",
    "    # sum of all columns \n",
    "    # by summing all the elements \n",
    "    # which share the same index in their respective arrays\n",
    "    # would need new list to store the changes\n",
    "    colsum = np.sum(arr, axis=0)\n",
    "\n",
    "    return colsum\n",
    "    \n",
    "\n",
    "# do not change the code below  \n",
    "question_nine()"
   ]
  },
  {
   "cell_type": "markdown",
   "metadata": {},
   "source": [
    "**Expected Output**: \n",
    "<table>\n",
    "    <tr> \n",
    "        <td>array([22, 26, 30]) </td> \n",
    "    </tr>\n",
    "</table> "
   ]
  },
  {
   "cell_type": "markdown",
   "metadata": {},
   "source": [
    "#### Question 10\n",
    "\n",
    "Given an input 2-d array, replace all negative values with 0\n",
    "\n",
    "Hint: use `np.where()`"
   ]
  },
  {
   "cell_type": "code",
   "execution_count": 13,
   "metadata": {},
   "outputs": [
    {
     "data": {
      "text/plain": [
       "array([[19, 52,  3, 48,  5],\n",
       "       [30,  0, 30,  4,  5],\n",
       "       [36, 62, 45,  0,  5],\n",
       "       [69, 47,  3,  0,  5],\n",
       "       [ 4, 78, 24, 45, 39]])"
      ]
     },
     "execution_count": 13,
     "metadata": {},
     "output_type": "execute_result"
    }
   ],
   "source": [
    "def question_ten():\n",
    "    \n",
    "    arr = np.array([[19,52,3,48,5], \n",
    "      [30,-3,30,4,5], \n",
    "      [36,62,45,-4,5], \n",
    "      [69,47,3,-6,5],\n",
    "      [4,78,24, 45, 39]])\n",
    "    # your code below\n",
    "    # returns a list where all negatives are swapped for zero,\n",
    "    # positive integers are unchanged\n",
    "    # returns a list but original remains unchanged\n",
    "    return np.where(arr <= 0, 0, arr)\n",
    "\n",
    "\n",
    "# do not change the code below  \n",
    "question_ten()"
   ]
  },
  {
   "cell_type": "markdown",
   "metadata": {},
   "source": [
    "**Expected Output**: \n",
    "<table >\n",
    "    <tr> \n",
    "        <td>array([[19, 52,  3, 48,  5],\n",
    "       [30,  0, 30,  4,  5],\n",
    "       [36, 62, 45,  0,  5],\n",
    "       [69, 47,  3,  0,  5],\n",
    "       [ 4, 78, 24, 45, 39]])</td> \n",
    "    </tr>\n",
    "</table> "
   ]
  },
  {
   "cell_type": "markdown",
   "metadata": {},
   "source": [
    "## Part B: Labelling Points based on Quandrants\n",
    "\n",
    "In this task, you will Label points based on quandrants. If you are not sure what quandrants are, see this [link](https://www.math.net/quadrant).\n"
   ]
  },
  {
   "cell_type": "code",
   "execution_count": 14,
   "metadata": {},
   "outputs": [
    {
     "data": {
      "text/plain": [
       "(50, 2)"
      ]
     },
     "execution_count": 14,
     "metadata": {},
     "output_type": "execute_result"
    }
   ],
   "source": [
    "rand = np.random.RandomState(42)\n",
    "\n",
    "#  Generating points with two-dimensional normal distribution\n",
    "mean = [0, 0]\n",
    "cov = [[5, 4],\n",
    "       [4, 5]]\n",
    "X = rand.multivariate_normal(mean, cov, 50)\n",
    "X.shape"
   ]
  },
  {
   "cell_type": "code",
   "execution_count": 15,
   "metadata": {},
   "outputs": [
    {
     "data": {
      "image/png": "[encoded data removed]",
      "text/plain": [
       "<Figure size 640x480 with 1 Axes>"
      ]
     },
     "metadata": {},
     "output_type": "display_data"
    }
   ],
   "source": [
    "# generate scatter plot\n",
    "%matplotlib inline\n",
    "import matplotlib.pyplot as plt\n",
    "import seaborn; seaborn.set()  # for plot styling\n",
    "\n",
    "plt.scatter(X[:, 0], X[:, 1]);"
   ]
  },
  {
   "cell_type": "code",
   "execution_count": 16,
   "metadata": {},
   "outputs": [
    {
     "data": {
      "image/png": "[encoded data removed]",
      "text/plain": [
       "<Figure size 640x480 with 1 Axes>"
      ]
     },
     "metadata": {},
     "output_type": "display_data"
    }
   ],
   "source": [
    "# your code below\n",
    "#make copy of plot from earlier\n",
    "plt2 = plt\n",
    "# make list to hold colors\n",
    "colors = []\n",
    "# iterate over coordinates\n",
    "for x,y in X:\n",
    "    # if Q1\n",
    "    if x > 0 and y > 0:\n",
    "        #blue dots\n",
    "        colors.append('blue')\n",
    "    #if Q4 \n",
    "    elif x > 0 and y < 0:\n",
    "        # red dots\n",
    "        colors.append('red')\n",
    "    #if Q2\n",
    "    elif x < 0 and y > 0:\n",
    "        # orange dots\n",
    "        colors.append('orange')\n",
    "    #if q3\n",
    "    else:\n",
    "        #green dots\n",
    "        colors.append('green')\n",
    "# generate plt from x,y coordinates and colors list\n",
    "plt2.scatter(X[:,0],X[:,1],c=colors);\n"
   ]
  },
  {
   "cell_type": "markdown",
   "metadata": {},
   "source": [
    "**Expected Plot**: "
   ]
  },
  {
   "cell_type": "markdown",
   "metadata": {},
   "source": [
    "<img src=\"images/quadrant_points.png\" >"
   ]
  },
  {
   "cell_type": "code",
   "execution_count": null,
   "metadata": {},
   "outputs": [],
   "source": []
  }
 ],
 "metadata": {
  "coursera": {
   "course_slug": "python-text-mining",
   "graded_item_id": "r35En",
   "launcher_item_id": "tCVfW",
   "part_id": "NTVgL"
  },
  "kernelspec": {
   "display_name": "Python 3 (ipykernel)",
   "language": "python",
   "name": "python3"
  },
  "language_info": {
   "codemirror_mode": {
    "name": "ipython",
    "version": 3
   },
   "file_extension": ".py",
   "mimetype": "text/x-python",
   "name": "python",
   "nbconvert_exporter": "python",
   "pygments_lexer": "ipython3",
   "version": "3.9.13"
  }
 },
 "nbformat": 4,
 "nbformat_minor": 2
}
