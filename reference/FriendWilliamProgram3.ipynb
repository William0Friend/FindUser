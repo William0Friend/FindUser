{
 "cells": [
  {
   "cell_type": "markdown",
   "metadata": {},
   "source": [
    "# CPSC380: Program 3 - Numpy Applications\n",
    "\n",
    "There are two parts in this programming assignment: \n",
    "- Part A (ten tasks): each task is worth 1 point\n",
    "- Part B (one task): it is worth 3 points\n",
    "\n",
    "### Submission Instruction:\n",
    "- Electronic submission: upload this jupyter notebook on d2l\n",
    "- In-class demo:\n",
    " - Run this jupyter notebook on your laptop.\n",
    " - Answer the questions if requested."
   ]
  },
  {
   "cell_type": "markdown",
   "metadata": {},
   "source": [
    "## Part A: Numpy Basics"
   ]
  },
  {
   "cell_type": "markdown",
   "metadata": {},
   "source": [
    "### 1. Sigmoid function\n",
    "\n",
    "$sigmoid(x) = \\frac{1}{1+e^{-x}}$ is sometimes also known as the logistic function. It is a non-linear function used not only in Machine Learning (Logistic Regression), but also in Deep Learning.\n",
    "\n",
    "<img src=\"images/Sigmoid.png\" style=\"width:500px;height:228px;\">"
   ]
  },
  {
   "cell_type": "markdown",
   "metadata": {},
   "source": [
    "#### Question 1: \n",
    "Implement the sigmoid function using numpy. \n",
    "\n",
    "**Hint**: use `np.exp()`. \n",
    "\n",
    "See np.exp documentation: (https://docs.scipy.org/doc/numpy-1.10.1/reference/generated/numpy.exp.html). \n"
   ]
  },
  {
   "cell_type": "code",
   "execution_count": 56,
   "metadata": {},
   "outputs": [
    {
     "data": {
      "text/plain": [
       "array([0.73105858, 0.88079708, 0.95257413])"
      ]
     },
     "execution_count": 56,
     "metadata": {},
     "output_type": "execute_result"
    }
   ],
   "source": [
    "import numpy as np\n",
    "\n",
    "def question_one(x):\n",
    "    \"\"\"\n",
    "    Compute the sigmoid of x\n",
    "\n",
    "    Arguments:\n",
    "    x -- A scalar or numpy array of any size\n",
    "\n",
    "    Return:\n",
    "    s -- the sigmoid of x \n",
    "    \"\"\"\n",
    "    \n",
    "    ### START CODE HERE ###\n",
    "    #Replace None with your code\n",
    "# The np.exp() function in numpy returns \n",
    "# exponential of elements in the input \n",
    "# array.\n",
    "# np.exp() lets us net have to implement e\n",
    "# the sigmoid function in just one line of code.\n",
    "#sigma(x) = frac{1}{1 + e^{-x}}\n",
    "    s = 1 / (1 + np.exp(-x))\n",
    "    return s\n",
    "    ### END CODE HERE ###\n",
    "\n",
    "# do not change the code below  \n",
    "\n",
    "\n",
    "\n",
    "x = np.array([1, 2, 3])\n",
    "question_one(x)"
   ]
  },
  {
   "cell_type": "markdown",
   "metadata": {},
   "source": [
    "**Expected Output**: \n",
    "<table>\n",
    "    <tr> \n",
    "        <td> array([ 0.73105858,  0.88079708,  0.95257413]) </td> \n",
    "    </tr>\n",
    "</table> \n"
   ]
  },
  {
   "cell_type": "markdown",
   "metadata": {},
   "source": [
    "### 2. Reshaping arrays ###\n",
    "\n",
    "Two common numpy functions used in deep learning are [np.shape](https://docs.scipy.org/doc/numpy/reference/generated/numpy.ndarray.shape.html) and [np.reshape()](https://docs.scipy.org/doc/numpy/reference/generated/numpy.reshape.html). \n",
    "- X.shape is used to get the shape (dimension) of a matrix/vector X. \n",
    "- X.reshape(...) is used to reshape X into some other dimension. \n",
    "\n",
    "For example, an image is represented by a 3D array of shape $(length, height, depth = 3)$. However, when you read an image as the input of an algorithm you convert it to a vector of shape $(length*height*3, 1)$. In other words, you \"unroll\", or reshape, the 3D array into a 1D vector.\n",
    "\n",
    "<img src=\"images/image2vector_kiank.png\" style=\"width:500px;height:300;\">\n",
    "\n"
   ]
  },
  {
   "cell_type": "markdown",
   "metadata": {},
   "source": [
    "#### Question 2: \n",
    "\n",
    "Implement `question_two()` that takes an input of an image with the shape (length, height, 3) and returns a vector of shape (length\\*height\\*3, 1)."
   ]
  },
  {
   "cell_type": "code",
   "execution_count": 57,
   "metadata": {},
   "outputs": [
    {
     "name": "stdout",
     "output_type": "stream",
     "text": [
      "[[0.67826139]\n",
      " [0.29380381]\n",
      " [0.90714982]\n",
      " [0.52835647]\n",
      " [0.4215251 ]\n",
      " [0.45017551]\n",
      " [0.92814219]\n",
      " [0.96677647]\n",
      " [0.85304703]\n",
      " [0.52351845]\n",
      " [0.19981397]\n",
      " [0.27417313]\n",
      " [0.60659855]\n",
      " [0.00533165]\n",
      " [0.10820313]\n",
      " [0.49978937]\n",
      " [0.34144279]\n",
      " [0.94630077]]\n"
     ]
    }
   ],
   "source": [
    "def question_two(image):\n",
    "    \"\"\"\n",
    "    Argument:\n",
    "    image -- a numpy array of shape (length, height, depth)\n",
    "    \n",
    "    Returns:\n",
    "    v -- a vector of shape (length*height*depth, 1)\n",
    "    \"\"\"\n",
    "    \n",
    "    ### START CODE HERE ### \n",
    "    #Replace None with your code\n",
    "    #v -- a vector of shape (length*height*depth, 1)\n",
    "    #use static sizing\n",
    "    #v = image.reshape(image.shape[0]*image.shape[1]*3, 1)\n",
    "    #use dynamic sizing\n",
    "    v = image.reshape(image.size, 1)\n",
    "    return v\n",
    "    ### END CODE HERE ###\n",
    "\n",
    "# do not change the code below  \n",
    "# This is a 3 by 3 by 2 array, typically images will be (num_px_x, num_px_y,3) where 3 represents the RGB values\n",
    "image = np.array([[[ 0.67826139,  0.29380381],\n",
    "        [ 0.90714982,  0.52835647],\n",
    "        [ 0.4215251 ,  0.45017551]],\n",
    "\n",
    "       [[ 0.92814219,  0.96677647],\n",
    "        [ 0.85304703,  0.52351845],\n",
    "        [ 0.19981397,  0.27417313]],\n",
    "\n",
    "       [[ 0.60659855,  0.00533165],\n",
    "        [ 0.10820313,  0.49978937],\n",
    "        [ 0.34144279,  0.94630077]]])\n",
    "\n",
    "print (str(question_two(image)))"
   ]
  },
  {
   "cell_type": "markdown",
   "metadata": {},
   "source": [
    "**Expected Output**: \n",
    "\n",
    "\n",
    "<table style=\"width:100%\">\n",
    "     <tr>\n",
    "       <td> [[ 0.67826139]\n",
    " [ 0.29380381]\n",
    " [ 0.90714982]\n",
    " [ 0.52835647]\n",
    " [ 0.4215251 ]\n",
    " [ 0.45017551]\n",
    " [ 0.92814219]\n",
    " [ 0.96677647]\n",
    " [ 0.85304703]\n",
    " [ 0.52351845]\n",
    " [ 0.19981397]\n",
    " [ 0.27417313]\n",
    " [ 0.60659855]\n",
    " [ 0.00533165]\n",
    " [ 0.10820313]\n",
    " [ 0.49978937]\n",
    " [ 0.34144279]\n",
    " [ 0.94630077]]</td> \n",
    "     </tr> \n",
    "</table>"
   ]
  },
  {
   "cell_type": "markdown",
   "metadata": {},
   "source": [
    "### 3. Normalizing rows\n",
    "\n",
    "Row normalization means that changing x to $ \\frac{x}{\\| x\\|} $ (dividing each row vector of x by its norm).\n",
    "\n",
    "For example, if $$x = \n",
    "\\begin{bmatrix}\n",
    "    0 & 3 & 4 \\\\\n",
    "    2 & 6 & 4 \\\\\n",
    "\\end{bmatrix}\\tag{2} $$\n",
    "\n",
    "then $$\\| x\\| = \\begin{bmatrix}\n",
    "    \\sqrt{0^{2}+3^{2}+4^{2}} \\\\\n",
    "    \\sqrt{2^{2}+6^{2}+4^{2}}\\\\\n",
    "\\end{bmatrix} = \\begin{bmatrix}\n",
    "     5 \\\\\n",
    "     \\sqrt{56} \\\\\n",
    "\\end{bmatrix}\\tag{3} $$\n",
    "and        \n",
    "\n",
    "$$ x\\_normalized = \\frac{x}{\\| x\\|} = \\begin{bmatrix}\n",
    "    0 & \\frac{3}{5} & \\frac{4}{5} \\\\\n",
    "    \\frac{2}{\\sqrt{56}} & \\frac{6}{\\sqrt{56}} & \\frac{4}{\\sqrt{56}} \\\\\n",
    "\\end{bmatrix}\\tag{4}$$ \n",
    "\n",
    "**Note:** You can divide matrices of different sizes and it works fine: this is broadcasting!\n",
    "\n"
   ]
  },
  {
   "cell_type": "markdown",
   "metadata": {},
   "source": [
    "#### Question 3: \n",
    "\n",
    "Implement question_three() to normalize the rows of a matrix as illustrated above, so that each row of x should be a vector of unit length (meaning length 1).\n",
    "\n",
    "Hint:\n",
    " - Use `np.linalg.norm` to compute  $\\| x\\|$\n",
    " - Divide x by its norm."
   ]
  },
  {
   "cell_type": "code",
   "execution_count": 58,
   "metadata": {},
   "outputs": [
    {
     "name": "stdout",
     "output_type": "stream",
     "text": [
      "[[0.         0.6        0.8       ]\n",
      " [0.13736056 0.82416338 0.54944226]]\n"
     ]
    }
   ],
   "source": [
    "def question_three(x):\n",
    "    \"\"\"\n",
    "    Implement a function that normalizes each row of the matrix x (to have unit length).\n",
    "    \n",
    "    Argument:\n",
    "    x -- A numpy matrix of shape (n, m)\n",
    "    \n",
    "    Returns:\n",
    "    x -- The normalized (by row) numpy matrix.\n",
    "    \"\"\"\n",
    "    \n",
    "    ### START CODE HERE ### (≈ 3 lines of code)\n",
    "    # Replace None with your code\n",
    "    # row normalization would be way more then one line of code\n",
    "    # This would be more complex without np.linalg.norm(array , ord = #, axis = 0|1, keepdims = True|False)\n",
    "    # This is a two step process, this calculates and stores te norm\n",
    "    x_norm = np.linalg.norm(x, ord = 2, axis = 1, keepdims = True)\n",
    "    \n",
    "    # then we actually divide x by its norm.\n",
    "    x = x / x_norm\n",
    "    \n",
    "    # then we return the array wit normalized values    \n",
    "    return x\n",
    "    ### END CODE HERE ###\n",
    "\n",
    "# do not change the code below  \n",
    "x = np.array([\n",
    "    [0, 3, 4],\n",
    "    [1, 6, 4]])\n",
    "print(str(question_three(x)))"
   ]
  },
  {
   "cell_type": "markdown",
   "metadata": {},
   "source": [
    "**Expected Output**: \n",
    "\n",
    "<table style=\"width:60%\">\n",
    "     <tr> \n",
    "       <td> [[ 0.          0.6         0.8       ] \n",
    "       [ 0.13736056  0.82416338  0.54944226]]</td> \n",
    "     </tr>\n",
    "    \n",
    "   \n",
    "</table>"
   ]
  },
  {
   "cell_type": "markdown",
   "metadata": {},
   "source": [
    "### 4. Softmax function ####\n",
    "A softmax function can be defined as the followings:\n",
    "- $ \\text{for } x \\in \\mathbb{R}^{1\\times n} \\text{,     } softmax(x) = softmax(\\begin{bmatrix}\n",
    "    x_1  &&\n",
    "    x_2 &&\n",
    "    ...  &&\n",
    "    x_n  \n",
    "\\end{bmatrix}) = \\begin{bmatrix}\n",
    "     \\frac{e^{x_1}}{\\sum_{j}e^{x_j}}  &&\n",
    "    \\frac{e^{x_2}}{\\sum_{j}e^{x_j}}  &&\n",
    "    ...  &&\n",
    "    \\frac{e^{x_n}}{\\sum_{j}e^{x_j}} \n",
    "\\end{bmatrix} $ \n",
    "\n",
    "- $\\text{for a matrix } x \\in \\mathbb{R}^{m \\times n} \\text{,  $x_{ij}$ maps to the element in the $i^{th}$ row and $j^{th}$ column of $x$, thus we have: }$  $$softmax(x) = softmax\\begin{bmatrix}\n",
    "    x_{11} & x_{12} & x_{13} & \\dots  & x_{1n} \\\\\n",
    "    x_{21} & x_{22} & x_{23} & \\dots  & x_{2n} \\\\\n",
    "    \\vdots & \\vdots & \\vdots & \\ddots & \\vdots \\\\\n",
    "    x_{m1} & x_{m2} & x_{m3} & \\dots  & x_{mn}\n",
    "\\end{bmatrix} = \\begin{bmatrix}\n",
    "    \\frac{e^{x_{11}}}{\\sum_{j}e^{x_{1j}}} & \\frac{e^{x_{12}}}{\\sum_{j}e^{x_{1j}}} & \\frac{e^{x_{13}}}{\\sum_{j}e^{x_{1j}}} & \\dots  & \\frac{e^{x_{1n}}}{\\sum_{j}e^{x_{1j}}} \\\\\n",
    "    \\frac{e^{x_{21}}}{\\sum_{j}e^{x_{2j}}} & \\frac{e^{x_{22}}}{\\sum_{j}e^{x_{2j}}} & \\frac{e^{x_{23}}}{\\sum_{j}e^{x_{2j}}} & \\dots  & \\frac{e^{x_{2n}}}{\\sum_{j}e^{x_{2j}}} \\\\\n",
    "    \\vdots & \\vdots & \\vdots & \\ddots & \\vdots \\\\\n",
    "    \\frac{e^{x_{m1}}}{\\sum_{j}e^{x_{mj}}} & \\frac{e^{x_{m2}}}{\\sum_{j}e^{x_{mj}}} & \\frac{e^{x_{m3}}}{\\sum_{j}e^{x_{mj}}} & \\dots  & \\frac{e^{x_{mn}}}{\\sum_{j}e^{x_{mj}}}\n",
    "\\end{bmatrix} = \\begin{pmatrix}\n",
    "    softmax\\text{(first row of x)}  \\\\\n",
    "    softmax\\text{(second row of x)} \\\\\n",
    "    ...  \\\\\n",
    "    softmax\\text{(last row of x)} \\\\\n",
    "\\end{pmatrix} $$"
   ]
  },
  {
   "cell_type": "markdown",
   "metadata": {},
   "source": [
    "#### Question 4: \n",
    "\n",
    "Implement a softmax function using numpy. You can think of softmax as a normalizing function used when your algorithm needs to classify two or more classes. You will learn more about softmax in the second course of this specialization.\n",
    "\n",
    "**Hint**:\n",
    " - Apply `exp()` element-wise to x. Use `np.exp(...)`.\n",
    " - Create a vector `x_sum` that sums each row of `x_exp`. Use `np.sum(..., axis = 1, keepdims = True)`.\n",
    " - Compute `softmax(x)` by dividing `x_exp` by `x_sum`. It should automatically use numpy broadcasting."
   ]
  },
  {
   "cell_type": "code",
   "execution_count": 59,
   "metadata": {},
   "outputs": [
    {
     "name": "stdout",
     "output_type": "stream",
     "text": [
      "[[9.80897665e-01 8.94462891e-04 1.79657674e-02 1.21052389e-04\n",
      "  1.21052389e-04]\n",
      " [8.78679856e-01 1.18916387e-01 8.01252314e-04 8.01252314e-04\n",
      "  8.01252314e-04]]\n"
     ]
    }
   ],
   "source": [
    "def question_four(x):\n",
    "    \"\"\"Calculates the softmax for each row of the input x.\n",
    "\n",
    "    Your code should work for a row vector and also for matrices of shape (n, m).\n",
    "\n",
    "    Argument:\n",
    "    x -- A numpy matrix of shape (n,m)\n",
    "\n",
    "    Returns:\n",
    "    s -- A numpy matrix equal to the softmax of x, of shape (n,m)\n",
    "    \"\"\"\n",
    "    \n",
    "    ### START CODE HERE ### (≈ 3 lines of code)\n",
    "    # replace None with your code\n",
    "    \n",
    "    # Apply exp() element-wise to x. Use np.exp(...).\n",
    "    x_exp = np.exp(x)\n",
    "\n",
    "    # Create a vector x_sum that sums each row of x_exp. Use np.sum(..., axis = 1, keepdims = True).\n",
    "    x_sum = np.sum(x_exp, axis = 1, keepdims = True)\n",
    "    \n",
    "    # Compute softmax(x) by dividing x_exp by x_sum. It should automatically use numpy broadcasting.\n",
    "    s = x_exp/x_sum\n",
    "\n",
    "    ### END CODE HERE ###\n",
    "    \n",
    "    return s\n",
    "\n",
    "# do not change the code below  \n",
    "x = np.array([\n",
    "    [9, 2, 5, 0, 0],\n",
    "    [7, 5, 0, 0 ,0]])\n",
    "print(str(question_four(x)))"
   ]
  },
  {
   "cell_type": "markdown",
   "metadata": {},
   "source": [
    "**Expected Output**:\n",
    "\n",
    "<table style=\"width:90%\">\n",
    "     <tr> \n",
    "       <td> [[  9.80897665e-01   8.94462891e-04   1.79657674e-02 1.21052389e-04 1.21052389e-04] \n",
    "             [ 8.78679856e-01   1.18916387e-01   8.01252314e-04   8.01252314e-04 8.01252314e-04]]</td> \n",
    "     </tr>\n",
    "</table>\n"
   ]
  },
  {
   "cell_type": "markdown",
   "metadata": {},
   "source": [
    "###  5. L1 loss function\n",
    "\n",
    "L1 loss is defined as:\n",
    "$$\\begin{align*} & L_1(\\hat{y}, y) = \\sum_{i=0}^m|y^{(i)} - \\hat{y}^{(i)}| \\end{align*}\\tag{5}$$"
   ]
  },
  {
   "cell_type": "markdown",
   "metadata": {},
   "source": [
    "#### Question 5: \n",
    "Implement the numpy vectorized version of the L1 loss. You may find the function abs(x) (absolute value of x) useful.\n"
   ]
  },
  {
   "cell_type": "code",
   "execution_count": 60,
   "metadata": {},
   "outputs": [
    {
     "name": "stdout",
     "output_type": "stream",
     "text": [
      "L1 = 1.1\n"
     ]
    }
   ],
   "source": [
    "def question_five(yhat, y):\n",
    "    \"\"\"\n",
    "    Arguments:\n",
    "    yhat -- vector of size m (predicted labels)\n",
    "    y -- vector of size m (true labels)\n",
    "    \n",
    "    Returns:\n",
    "    loss -- the value of the L1 loss function defined above\n",
    "    \"\"\"\n",
    "    \n",
    "    ### START CODE HERE ### (≈ 1 line of code)\n",
    "    # replace None with your code\n",
    "    # np.sum() to get summation of the resulting array using np.sum()\n",
    "    # np.abs() to get the absolute value of the difference between y and yhat\n",
    "    # sum is then stored in loss\n",
    "    loss = np.sum(np.abs(y-yhat))\n",
    "    \n",
    "    ### END CODE HERE ###\n",
    "    \n",
    "    return loss\n",
    "\n",
    "# do not change the code below  \n",
    "yhat = np.array([.9, 0.2, 0.1, .4, .9])\n",
    "y = np.array(   [1,    0,    0, 1,  1])\n",
    "print(\"L1 = \" + str(question_five(yhat,y)))\n"
   ]
  },
  {
   "cell_type": "markdown",
   "metadata": {},
   "source": [
    "**Expected Output**:\n",
    "\n",
    "<table>\n",
    "    <tr> \n",
    "         <td> **L1** </td> \n",
    "         <td> 1.1 </td> \n",
    "    </tr>\n",
    "</table>\n",
    "\n"
   ]
  },
  {
   "cell_type": "markdown",
   "metadata": {},
   "source": [
    "###  6. L2 loss function\n",
    "\n",
    "L2 loss is defined as :\n",
    "$$\\begin{align*} & L_2(\\hat{y},y) = \\sum_{i=0}^m(y^{(i)} - \\hat{y}^{(i)})^2 \\end{align*}\\tag{6}$$"
   ]
  },
  {
   "cell_type": "markdown",
   "metadata": {},
   "source": [
    "#### Question 6: \n",
    "Implement the numpy vectorized version of the L2 loss. There are several way of implementing the L2 loss but you may find the function np.dot() useful. As a reminder, if $x = [x_1, x_2, ..., x_n]$, then `np.dot(x,x)` = $\\sum_{j=0}^n x_j^{2}$. \n",
    "\n"
   ]
  },
  {
   "cell_type": "code",
   "execution_count": 61,
   "metadata": {},
   "outputs": [
    {
     "name": "stdout",
     "output_type": "stream",
     "text": [
      "L2 = 0.43\n"
     ]
    }
   ],
   "source": [
    "def question_six(yhat, y):\n",
    "    \"\"\"\n",
    "    Arguments:\n",
    "    yhat -- vector of size m (predicted labels)\n",
    "    y -- vector of size m (true labels)\n",
    "    \n",
    "    Returns:\n",
    "    loss -- the value of the L2 loss function defined above\n",
    "    \"\"\"\n",
    "    \n",
    "    ### START CODE HERE ### (≈ 1 line of code)\n",
    "    # replace None with your code\n",
    "    # np.sum() to get summation of the resulting array using np.sum()\n",
    "    # np.square() to get the square of the difference between y and yhat\n",
    "    # sum is then stored in loss \n",
    "    # lossALT = np.sum(np.square((y-yhat)))\n",
    "    # np.dot can do the same summation, difference, and exponents \n",
    "    # needed for this equation all in one function \n",
    "    loss = np.dot((y-yhat),(y-yhat))\n",
    "    ### END CODE HERE ###\n",
    "    \n",
    "    return loss\n",
    "\n",
    "# do not change the code below  \n",
    "yhat = np.array([.9, 0.2, 0.1, .4, .9])\n",
    "y = np.array([1, 0, 0, 1, 1])\n",
    "print(\"L2 = \" + str(question_six(yhat,y)))"
   ]
  },
  {
   "cell_type": "markdown",
   "metadata": {},
   "source": [
    "**Expected Output**: \n",
    "<table style=\"width:20%\">\n",
    "     <tr> \n",
    "       <td> **L2** </td> \n",
    "       <td> 0.43 </td> \n",
    "     </tr>\n",
    "</table>"
   ]
  },
  {
   "cell_type": "code",
   "execution_count": null,
   "metadata": {},
   "outputs": [],
   "source": []
  },
  {
   "cell_type": "markdown",
   "metadata": {},
   "source": [
    "### 7. Prediction accuracy\n",
    "\n",
    "Accuracy is defined as :\n",
    "$$\\begin{align*} & Accuracy = \\frac{Number\\_of\\_corrected\\_predictions}{Total\\_number\\_of\\_predictions} = \\frac{\\sum_{i=0}^m(y^{(i)} == \\hat{y}^{(i)})}{m}\\end{align*}\\tag{7}$$\n",
    "\n",
    "where $m$ is the total number of predictions.\n",
    "\n",
    "#### Question 7\n",
    "Implement the numpy vectorized version solution for computing accuracy."
   ]
  },
  {
   "cell_type": "code",
   "execution_count": 62,
   "metadata": {},
   "outputs": [
    {
     "data": {
      "text/plain": [
       "0.25"
      ]
     },
     "execution_count": 62,
     "metadata": {},
     "output_type": "execute_result"
    }
   ],
   "source": [
    "def question_seven(yhat, y):\n",
    "    \"\"\"\n",
    "    Arguments:\n",
    "    yhat -- vector of size m (predicted labels)\n",
    "    y -- vector of size m (true labels)\n",
    "    \n",
    "    Returns:\n",
    "    accuracy -- the value of prediction accuracy defined above\n",
    "    \"\"\"\n",
    "    \n",
    "    ### START CODE HERE ### (≈ 1 line of code)\n",
    "    # replace None with your code\n",
    "    # if we want matches on 1's and 0's\n",
    "    #   this gives 0.33333...\n",
    "    # accuracy = (np.sum((yhat == y)))/len((y[0]))\n",
    "    # if we only want matches on 1's\n",
    "    #   this gives 0.25\n",
    "    accuracy = (np.sum((yhat == y) & (y != 0)))/len((y[0]))\n",
    "    return accuracy\n",
    "    ### END CODE HERE ###\n",
    "\n",
    "# do not change the code below  \n",
    "y = np.array([   [1, 0, 1, 0, 1, 0, 0, 1, 1, 0, 1, 0]])\n",
    "yhat = np.array([[1, 1, 0, 1, 0, 1, 1, 1, 0, 1, 1, 0]])\n",
    "question_seven(yhat, y)"
   ]
  },
  {
   "attachments": {},
   "cell_type": "markdown",
   "metadata": {},
   "source": [
    "**Expected Output**: \n",
    "<table style=\"width:20%\">\n",
    "     <tr> \n",
    "       <td> **Accuracy** </td> \n",
    "       <td> 0.25 </td> \n",
    "     </tr>\n",
    "</table>"
   ]
  },
  {
   "cell_type": "markdown",
   "metadata": {},
   "source": [
    "### 8. Vectorization with NumPy"
   ]
  },
  {
   "cell_type": "markdown",
   "metadata": {},
   "source": [
    "Python we can multiply two sequences with a list comprehension (or loop), but it is extremly slow when input seuqence is large. However, it is fairly efficient if we perform the same task (elementwise multiplication) with numpy array.\n",
    "\n",
    "#### Question 8\n",
    "Implement the numpy vectorized version solution for computing elementwise multiplication."
   ]
  },
  {
   "cell_type": "code",
   "execution_count": 63,
   "metadata": {},
   "outputs": [
    {
     "name": "stdout",
     "output_type": "stream",
     "text": [
      "115 ms ± 9.39 ms per loop (mean ± std. dev. of 7 runs, 10 loops each)\n"
     ]
    }
   ],
   "source": [
    "# non-vectorized version of vector multiplication\n",
    "a = [np.random.randint(1, 100) for _ in range(1000000)]\n",
    "b = [np.random.randint(1, 100) for _ in range(1000000)]\n",
    "%timeit res = [x * y for x, y in zip(a, b)]"
   ]
  },
  {
   "cell_type": "code",
   "execution_count": 64,
   "metadata": {},
   "outputs": [
    {
     "name": "stdout",
     "output_type": "stream",
     "text": [
      "2.34 ms ± 255 µs per loop (mean ± std. dev. of 7 runs, 100 loops each)\n"
     ]
    }
   ],
   "source": [
    "import numpy as np\n",
    "import timeit \n",
    "# vectorized\n",
    "def question_eight(a, b):\n",
    "\n",
    "    \"\"\"\n",
    "    Arguments:\n",
    "    a -- vector of randomly generated numbers\n",
    "    b -- vector of randomly generated numbers\n",
    "    \n",
    "    Returns:\n",
    "    record execution time for elementwise vector multiplication\n",
    "    \"\"\"    \n",
    "    ### START CODE HERE ### (≈ 1 line of code)  \n",
    "    %timeit res = np.multiply(a,b)\n",
    "    ### END CODE HERE ###\n",
    "\n",
    "# do not change the code below  \n",
    "a = np.random.randint(1, 100, 1000000)\n",
    "b = np.random.randint(1, 100, 1000000)\n",
    "question_eight(a, b)"
   ]
  },
  {
   "cell_type": "markdown",
   "metadata": {},
   "source": [
    "### 9. Dataset processing\n",
    "\n",
    "**Note**: The dataset is used for both question 9 and question 10\n",
    "\n",
    "You are given a data set in `prog3data.mat` that contains 5000 training examples of handwritten digits (This is a subset of the [MNIST](http://yann.lecun.com/exdb/mnist) handwritten digit dataset). The `.mat` format means that that the data has been saved in a native Octave/MATLAB matrix format, instead of a text (ASCII) format like a csv-file. Python provides mechanisms to load MATLAB native format using the `loadmat` function within the `scipy.io` module. This function returns a python dictionary with keys containing the variable names within the `.mat` file. \n",
    "\n",
    "There are 5000 training examples in `prog3data.mat`, where each training example is a 20 pixel by 20 pixel grayscale image of the digit. Each pixel is represented by a floating point number indicating the grayscale intensity at that location. The 20 by 20 grid of pixels is “unrolled” into a 400-dimensional vector. Each of these training examples becomes a single row in our data matrix `X`. This gives us a 5000 by 400 matrix `X` where every row is a training example for a handwritten digit image.\n",
    "\n",
    "$$ X = \\begin{bmatrix} - \\: (x^{(1)})^T \\: - \\\\ -\\: (x^{(2)})^T \\:- \\\\ \\vdots \\\\ - \\: (x^{(m)})^T \\:-  \\end{bmatrix} $$\n",
    "\n",
    "The second part of the training set is a 5000-dimensional vector `y` that contains labels for the training set. \n",
    "\n",
    "In the following cell, we will load the dataset. Execute the cell below, you do not need to write any code here."
   ]
  },
  {
   "cell_type": "code",
   "execution_count": 65,
   "metadata": {},
   "outputs": [
    {
     "name": "stdout",
     "output_type": "stream",
     "text": [
      "Shape of X:  (5000, 400)\n",
      "Shape of y:  (5000,) \n",
      "\n",
      "Data label information:\n",
      "Before:  Counter({10: 500, 1: 500, 2: 500, 3: 500, 4: 500, 5: 500, 6: 500, 7: 500, 8: 500, 9: 500})\n"
     ]
    }
   ],
   "source": [
    "import collections\n",
    "\n",
    "# used to load MATLAB mat datafile format\n",
    "from scipy.io import loadmat\n",
    "\n",
    "# 20x20 Input Images of Digits\n",
    "input_layer_size  = 400\n",
    "\n",
    "# 10 labels, from 1 to 10 (note that we have mapped \"0\" to label 10)\n",
    "num_labels = 10\n",
    "\n",
    "#  training data stored in arrays X, y\n",
    "data = loadmat('prog3data.mat')\n",
    "X, y = data['X'], data['y'].ravel()\n",
    "\n",
    "print ('Shape of X: ', X.shape)\n",
    "print ('Shape of y: ', y.shape,'\\n')\n",
    "\n",
    "print ('Data label information:')\n",
    "print ('Before: ', collections.Counter(y))"
   ]
  },
  {
   "cell_type": "code",
   "execution_count": null,
   "metadata": {},
   "outputs": [],
   "source": []
  },
  {
   "cell_type": "markdown",
   "metadata": {},
   "source": [
    "Below shows four digit images (0,1,2,3) and their corresponding labels.\n",
    "\n",
    "**Note**: The zero digit was labeled as 10 in this dataset This is an artifact due to the fact that this dataset was used in MATLAB where there is no index 0"
   ]
  },
  {
   "cell_type": "code",
   "execution_count": 66,
   "metadata": {},
   "outputs": [
    {
     "data": {
      "image/png": "[encoded data removed]",
      "text/plain": [
       "<Figure size 640x480 with 1 Axes>"
      ]
     },
     "metadata": {},
     "output_type": "display_data"
    },
    {
     "name": "stdout",
     "output_type": "stream",
     "text": [
      "Corresponding label 10 \n",
      "\n",
      "\n"
     ]
    },
    {
     "data": {
      "image/png": "[encoded data removed]",
      "text/plain": [
       "<Figure size 640x480 with 1 Axes>"
      ]
     },
     "metadata": {},
     "output_type": "display_data"
    },
    {
     "name": "stdout",
     "output_type": "stream",
     "text": [
      "Corresponding label 1 \n",
      "\n",
      "\n"
     ]
    },
    {
     "data": {
      "image/png": "[encoded data removed]",
      "text/plain": [
       "<Figure size 640x480 with 1 Axes>"
      ]
     },
     "metadata": {},
     "output_type": "display_data"
    },
    {
     "name": "stdout",
     "output_type": "stream",
     "text": [
      "Corresponding label 2 \n",
      "\n",
      "\n"
     ]
    },
    {
     "data": {
      "image/png": "[encoded data removed]",
      "text/plain": [
       "<Figure size 640x480 with 1 Axes>"
      ]
     },
     "metadata": {},
     "output_type": "display_data"
    },
    {
     "name": "stdout",
     "output_type": "stream",
     "text": [
      "Corresponding label 3 \n",
      "\n",
      "\n"
     ]
    }
   ],
   "source": [
    "from matplotlib import pyplot\n",
    "\n",
    "# displaying digit images (0,1,2,3)\n",
    "for i in range(0, 2000, 500):\n",
    "    pyplot.imshow(X[i].reshape(20, 20, order='F'), cmap='Greys', extent=[0, 1, 0, 1])\n",
    "   \n",
    "    pyplot.show()\n",
    "    print ('Corresponding label', y[i],'\\n\\n')\n"
   ]
  },
  {
   "cell_type": "code",
   "execution_count": null,
   "metadata": {},
   "outputs": [],
   "source": []
  },
  {
   "cell_type": "markdown",
   "metadata": {},
   "source": [
    "#### Question 9\n",
    "Set the zero digit to 0, rather than its mapped 10 in this dataset"
   ]
  },
  {
   "cell_type": "code",
   "execution_count": 67,
   "metadata": {},
   "outputs": [
    {
     "name": "stdout",
     "output_type": "stream",
     "text": [
      "After:  Counter({0: 500, 1: 500, 2: 500, 3: 500, 4: 500, 5: 500, 6: 500, 7: 500, 8: 500, 9: 500})\n"
     ]
    }
   ],
   "source": [
    "def question_nine(y):\n",
    "    \"\"\"\n",
    "    Arguments:\n",
    "    y -- vector of digit image labels (10, 1,2,3,...9)\n",
    "    \"\"\"\n",
    "    ### START CODE HERE ###\n",
    "    # replace all original label of 10 with 0\n",
    "    # anywhere y = 10, make it 0 now\n",
    "    # we don't' want to return y since we want\n",
    "    # to mutate the original y\n",
    "    y[y==10] = 0\n",
    "    ### END CODE HERE ###\n",
    "# do not change the code below    \n",
    "question_nine(y)\n",
    "print ('After: ', collections.Counter(y))"
   ]
  },
  {
   "cell_type": "markdown",
   "metadata": {},
   "source": [
    "**Expected Output**: \n",
    "<table style=\"width:80%\">\n",
    "     <tr> \n",
    "       <td> After:  Counter({0: 500, 1: 500, 2: 500, 3: 500, 4: 500, 5: 500, 6: 500, 7: 500, 8: 500, 9: 500})\n",
    " </td> \n",
    "     </tr>\n",
    "</table>"
   ]
  },
  {
   "cell_type": "markdown",
   "metadata": {},
   "source": [
    "#### Question 10\n",
    "\n",
    "Randomly select 25 index positions out of `m` data points so indices must be in range of `[0, m-1]`, and return the chosen index list.\n",
    "\n",
    "**Hint**:\n",
    " - use `np.random.choice` with replacement strategy of `False`"
   ]
  },
  {
   "cell_type": "code",
   "execution_count": 68,
   "metadata": {},
   "outputs": [
    {
     "data": {
      "text/plain": [
       "array([ 398, 3833, 4836, 4572,  636, 2545, 1161, 2230,  148, 2530, 4070,\n",
       "       1261, 4682,  333,  906, 3170,  483, 2825, 1778, 2466,  159, 1563,\n",
       "        402, 4258, 4775])"
      ]
     },
     "execution_count": 68,
     "metadata": {},
     "output_type": "execute_result"
    }
   ],
   "source": [
    "def question_ten(m):\n",
    "\n",
    "    np.random.seed(0)\n",
    "    \n",
    "    ### START CODE HERE ###\n",
    "    \n",
    "    # Randomly select 25 index positions out of m (i.e., 5000) data points\n",
    "    # replace None with your code\n",
    "    # np.random.choice() takes m, selects 25 elements, but leave the unreplaced or the same\n",
    "    rand_indices = np.random.choice(m, 25, replace=False)  \n",
    "    # return the slice of 25 random index positions\n",
    "    # same as the example since it uses the same seed\n",
    "    return rand_indices\n",
    "    \n",
    "    ### END CODE HERE ###\n",
    "\n",
    "# do not change the code below\n",
    "m = y.size\n",
    "question_ten(m)"
   ]
  },
  {
   "cell_type": "markdown",
   "metadata": {},
   "source": [
    "**Expected Output**: \n",
    "<table style=\"width:80%\">\n",
    "     <tr> \n",
    "       <td> array([ 398, 3833, 4836, 4572,  636, 2545, 1161, 2230,  148, 2530, 4070,\n",
    "       1261, 4682,  333,  906, 3170,  483, 2825, 1778, 2466,  159, 1563,\n",
    "        402, 4258, 4775])</td> \n",
    "     </tr>\n",
    "</table>"
   ]
  },
  {
   "cell_type": "markdown",
   "metadata": {},
   "source": [
    "### 10. Visualizing the data\n",
    "\n",
    "We will visualize a subset of the training set based on randomly selected indices from `question_ten()`. Below is the `displayData` function implemented for you. This function maps each row to a 20 pixel by 20 pixel grayscale image and displays the images together. Using  the `displayData` function, we can see the 25 randomly selcted images we picked.\n",
    "\n",
    "**Note**: You don't need do anything in this section, but you may run the cells below to double check whether you picked the correct indices from `question_ten()`. "
   ]
  },
  {
   "cell_type": "code",
   "execution_count": 69,
   "metadata": {},
   "outputs": [],
   "source": [
    "import sys\n",
    "import numpy as np\n",
    "from matplotlib import pyplot\n",
    "\n",
    "def displayData(X, example_width=None, figsize=(5, 5)):\n",
    "    \"\"\"\n",
    "    Displays 2D data stored in X in a nice grid.\n",
    "    \"\"\"\n",
    "    # Compute rows, cols\n",
    "    if X.ndim == 2:\n",
    "        m, n = X.shape\n",
    "    elif X.ndim == 1:\n",
    "        n = X.size\n",
    "        m = 1\n",
    "        X = X[None]  # Promote to a 2 dimensional array\n",
    "    else:\n",
    "        raise IndexError('Input X should be 1 or 2 dimensional.')\n",
    "\n",
    "    example_width = example_width or int(np.round(np.sqrt(n)))\n",
    "    example_height = n / example_width\n",
    "\n",
    "    # Compute number of items to display\n",
    "    display_rows = int(np.floor(np.sqrt(m)))\n",
    "    display_cols = int(np.ceil(m / display_rows))\n",
    "\n",
    "    fig, ax_array = pyplot.subplots(display_rows, display_cols, figsize=figsize)\n",
    "    fig.subplots_adjust(wspace=0.025, hspace=0.025)\n",
    "\n",
    "    ax_array = [ax_array] if m == 1 else ax_array.ravel()\n",
    "\n",
    "    for i, ax in enumerate(ax_array):\n",
    "        ax.imshow(X[i].reshape(example_width, example_width, order='F'),\n",
    "                  cmap='Greys', extent=[0, 1, 0, 1])\n",
    "        ax.axis('off')\n"
   ]
  },
  {
   "cell_type": "code",
   "execution_count": 70,
   "metadata": {},
   "outputs": [
    {
     "data": {
      "image/png": "[encoded data removed]",
      "text/plain": [
       "<Figure size 500x500 with 25 Axes>"
      ]
     },
     "metadata": {},
     "output_type": "display_data"
    }
   ],
   "source": [
    "rand_indices = question_ten(m)\n",
    "sel = X[rand_indices, :]\n",
    "displayData(sel)"
   ]
  },
  {
   "cell_type": "markdown",
   "metadata": {},
   "source": [
    "**Expected Output**:\n",
    "\n",
    "<img src=\"images/digits.png\" style=\"width:200px;height:200;\">"
   ]
  },
  {
   "cell_type": "markdown",
   "metadata": {},
   "source": [
    "## Part B: Flower Classfication: Training and Testing File\n",
    "\n",
    "\n",
    "**In this task**, you will need to use the renamed image files (`4317` in total) you completed from program 1 to create two files: `flower_recognition_train.csv` and `flower_recognition_test.csv`. These two files will be used for image model training and testing purpose. Below is the list of detailed information for the file generation:\n",
    "- The renamed image files\n",
    "- For each flower folders (`chamomile, tulip, rose, sunflower, daisy`), you randomly pick 60 images for the testing, and the remaining images for the training.\n",
    "- You should have `5*60` images for model testing, and `4017` (`4317-300`) images for model training.\n",
    "- Both files should have the headers `,FileName,Label,ClassName`\n",
    "- We will have the following class label mapping: {`'daisy':0,'dandelion':1,'rose':2,'sunflower':3,'tulip':4`}\n",
    "- For each record in both training and testing file, we will have four items separated with `,` (**csv format**):\n",
    "`index,image_file_path/image_file_name,class_mapping, class`\n",
    "\n",
    "\n",
    "Below is the list of files from `flower_recognition_train.csv`:\n",
    "\n",
    "   \n",
    "    ,FileName,Label,ClassName\n",
    "    0,/home/dche/Course/CPSC380/flowers/tulip/tulip_000849.png,4,tulip\n",
    "    1,/home/dche/Course/CPSC380/flowers/tulip/tulip_000587.png,4,tulip\n",
    "    2,/home/dche/Course/CPSC380/flowers/tulip/tulip_000302.png,4,tulip\n",
    "    ...\n",
    "    923,/home/dche/Course/CPSC380/flowers/tulip/tulip_000798.png,4,tulip\n",
    "    924,/home/dche/Course/CPSC380/flowers/daisy/daisy_000632.png,0,daisy\n",
    "    925,/home/dche/Course/CPSC380/flowers/daisy/daisy_000267.png,0,daisy\n",
    "    926,/home/dche/Course/CPSC380/flowers/daisy/daisy_000381.png,0,daisy\n",
    "    ...\n",
    "    4015,/home/dche/Course/CPSC380/flowers/rose/rose_000704.png,2,rose\n",
    "    4016,/home/dche/Course/CPSC380/flowers/rose/rose_000683.png,2,rose\n",
    "   \n",
    "    \n",
    " **Note**: Depending on how you write image file information into the file, your file may not have the same order as mine."
   ]
  },
  {
   "cell_type": "code",
   "execution_count": 71,
   "metadata": {},
   "outputs": [],
   "source": [
    "\n",
    "#################################################################################################################################################################\n",
    "#-                                                          MUST DO:                                                                                            #\n",
    "#- The renamed image files                                                                                                                                      # \n",
    "#- For each flower folders (`chamomile, tulip, rose, sunflower, daisy`), you randomly pick 60 images for the testing, and the remaining images for the training.#\n",
    "#- You should have `5*60` images for model testing, and `4017` (`4317-300`) images for model training.                                                          #\n",
    "#- Both files should have the headers `,FileName,Label,ClassName`                                                                                               #\n",
    "#- We will have the following class label mapping: {`'daisy':0,'dandelion':1,'rose':2,'sunflower':3,'tulip':4`}                                                 #\n",
    "#- For each record in both training and testing file, we will have four items separated with `,` (**csv format**):                                              # \n",
    "#- index,image_file_path/image_file_name,class_mapping, class`                                                                                                  #\n",
    "#- Match given cvs output                                                                                                                                       #\n",
    "#################################################################################################################################################################  \n",
    "\n",
    "# your code below\n",
    "import os\n",
    "import random\n",
    "import csv\n",
    "\n",
    "# set the path to the flowers dataset directory\n",
    "data_dir = 'D:\\\\GitHub\\\\DataScienceTermProject\\\\Program3\\\\flowers\\\\flowers'\n",
    "# define the class label mapping\n",
    "class_map = {'daisy': 0, 'dandelion': 1, 'rose': 2, 'sunflower': 3, 'tulip': 4}\n",
    "# define number of test images\n",
    "num_test_images = 60\n",
    "# create empty lists for training and testing data\n",
    "train_data = []\n",
    "test_data = []\n",
    "# iterate over the flower folders\n",
    "for class_name in os.listdir(data_dir):\n",
    "    #combine the subdirectory with the path we already have\n",
    "    class_path = os.path.join(data_dir, class_name)\n",
    "    #double check that what we are looking for exists\n",
    "    if os.path.isdir(class_path):\n",
    "        #turn files into a list called images\n",
    "        images = os.listdir(class_path)\n",
    "        #shuffle the image list to randomly select testing and training images\n",
    "        # this shuffles files by file number\n",
    "        random.shuffle(images)\n",
    "        # otherwise the split would just be the first 60 of each for testing, the rest training\n",
    "        # select the first num_test_images for testing, \n",
    "        test_images = images[:num_test_images]\n",
    "        # select the rest for training\n",
    "        train_images = images[num_test_images:]\n",
    "        # iterate over the testing images\n",
    "        for image_file in test_images:\n",
    "            # select file and append to path\n",
    "            image_path = os.path.join(class_path, image_file)\n",
    "            # label equals the one the class name is mapped to from before\n",
    "            label = class_map[class_name]\n",
    "            # append image path, the label, and the class name for later writing\n",
    "            test_data.append((image_path, label, class_name))\n",
    "        # iterate over the training images\n",
    "        for image_file in train_images:\n",
    "            # select file and append to path\n",
    "            image_path = os.path.join(class_path, image_file)\n",
    "            # label equals the one the class name is mapped to from before\n",
    "            label = class_map[class_name]\n",
    "            # append image path, the label, and the class name for later writing\n",
    "            train_data.append((image_path, label, class_name))\n",
    "# Write the training data to a CSV file\n",
    "    # create and open a new csv file for writing, called my_csv for simplicity\n",
    "with open('flower_recognition_train.csv', 'w', newline='') as my_csv:\n",
    "    # create a writer object for the newly made file\n",
    "    writer = csv.writer(my_csv)\n",
    "    # writerow will now right the top row of the csv\n",
    "    writer.writerow(['', 'FileName', 'Label', 'ClassName'])\n",
    "    # enumerate over train data and store the index, and values needed\n",
    "    for i, (image_path, label, class_name) in enumerate(train_data):\n",
    "        # writerow will now right all the entries from train_data to the new csv \n",
    "        writer.writerow([i, image_path, label, class_name])\n",
    "\n",
    "# Write the testing data to a CSV file\n",
    "    # create and open a new csv file for writing, called my_csv for simplicity\n",
    "with open('flower_recognition_test.csv', 'w', newline='') as my_csv:\n",
    "    # create a writer object for the newly made file\n",
    "    writer = csv.writer(my_csv)\n",
    "    # writerow will now right the top row of the csv\n",
    "    writer.writerow(['', 'FileName', 'Label', 'ClassName'])\n",
    "    # enumerate over train data and store the index, and values needed\n",
    "    for i, (image_path, label, class_name) in enumerate(test_data):\n",
    "        # writerow will now right all the entries from train_data to the new csv \n",
    "        writer.writerow([i, image_path, label, class_name])\n",
    "        \n",
    "            #####################################################\n",
    "            # Now check file's directory for the two csv files! #\n",
    "            #####################################################"
   ]
  }
 ],
 "metadata": {
  "coursera": {
   "course_slug": "neural-networks-deep-learning",
   "graded_item_id": "XHpfv",
   "launcher_item_id": "Zh0CU"
  },
  "kernelspec": {
   "display_name": "Python 3 (ipykernel)",
   "language": "python",
   "name": "python3"
  },
  "language_info": {
   "codemirror_mode": {
    "name": "ipython",
    "version": 3
   },
   "file_extension": ".py",
   "mimetype": "text/x-python",
   "name": "python",
   "nbconvert_exporter": "python",
   "pygments_lexer": "ipython3",
   "version": "3.9.13"
  }
 },
 "nbformat": 4,
 "nbformat_minor": 2
}
